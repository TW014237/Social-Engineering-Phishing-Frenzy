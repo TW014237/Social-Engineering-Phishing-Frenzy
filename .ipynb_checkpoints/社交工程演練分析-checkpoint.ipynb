{
 "cells": [
  {
   "cell_type": "markdown",
   "metadata": {},
   "source": [
    "# 社交工程演練分析-以Phishing Frenzy平台為例"
   ]
  },
  {
   "cell_type": "markdown",
   "metadata": {},
   "source": [
    "## 何謂社交工程(Social Engineering)?\n",
    "簡而言之，就是透過假冒身份或者拋出誘人的議題，引導受害者的行為，進一步套取機密資訊或甚至是財務<br>\n",
    "電子郵件是常見的手法之一，這種郵件又稱做釣魚郵件(phishing email)，比喻受害人就像魚一樣上鉤受騙<br>\n",
    "釣魚郵件經常透過偽造的網站連結騙取受害人的機密資訊，例如：偽造的網站上輸入重要資訊，則攻擊者便取得相關資訊<br>"
   ]
  },
  {
   "cell_type": "markdown",
   "metadata": {},
   "source": [
    "## 何謂社交工程演練?\n",
    "如同前文提到，社交工程攻擊可能對個人或公司造成傷害<br>\n",
    "因此公司會委託檢測廠商進行社交工程演練，透過仿真的釣魚郵件，測試同仁的資訊安全意識<br>\n",
    "若發現有同仁會閱讀郵件或點擊連結，則公司應特別留意這些同仁，或者督促同仁參加資安教育訓練<br>"
   ]
  },
  {
   "cell_type": "markdown",
   "metadata": {},
   "source": [
    "## Phishing Frenzy是什麼?\n",
    "Phishing Frenzy是一個開源的社交工程演練平台，我們可以透過平台設計、寄送釣魚郵件<br>\n",
    "由於架構簡單而且功能也堪稱齊全，因此Phishing Frenzy頗受資訊人員青睞<br>"
   ]
  },
  {
   "cell_type": "markdown",
   "metadata": {},
   "source": [
    "## 前言\n",
    "本專案模擬某公司委託我方進行社交工程演練<br>\n",
    "我們依據公司提供的郵件清單，寄送3封郵件給每位同仁，並且透過Phishing Frenzy平台回收3封郵件的演練報告<br>\n",
    "接下來，我們會整理演練結果，並在會議中跟客戶分享我們的發現"
   ]
  },
  {
   "cell_type": "markdown",
   "metadata": {},
   "source": [
    "## Step 1. 引用模組或套件"
   ]
  },
  {
   "cell_type": "code",
   "execution_count": 1,
   "metadata": {},
   "outputs": [],
   "source": [
    "import numpy as np\n",
    "import pandas as pd"
   ]
  },
  {
   "cell_type": "markdown",
   "metadata": {},
   "source": [
    "## Step 2. 讀取郵件清單"
   ]
  },
  {
   "cell_type": "code",
   "execution_count": 2,
   "metadata": {},
   "outputs": [],
   "source": [
    "email = pd.read_excel(\"email.xlsx\")"
   ]
  },
  {
   "cell_type": "code",
   "execution_count": 3,
   "metadata": {
    "scrolled": true
   },
   "outputs": [
    {
     "data": {
      "text/html": [
       "<div>\n",
       "<style scoped>\n",
       "    .dataframe tbody tr th:only-of-type {\n",
       "        vertical-align: middle;\n",
       "    }\n",
       "\n",
       "    .dataframe tbody tr th {\n",
       "        vertical-align: top;\n",
       "    }\n",
       "\n",
       "    .dataframe thead th {\n",
       "        text-align: right;\n",
       "    }\n",
       "</style>\n",
       "<table border=\"1\" class=\"dataframe\">\n",
       "  <thead>\n",
       "    <tr style=\"text-align: right;\">\n",
       "      <th></th>\n",
       "      <th>Name</th>\n",
       "      <th>Department</th>\n",
       "      <th>Email</th>\n",
       "    </tr>\n",
       "  </thead>\n",
       "  <tbody>\n",
       "    <tr>\n",
       "      <th>0</th>\n",
       "      <td>陳○○</td>\n",
       "      <td>Executive Office</td>\n",
       "      <td>employee1@email.com.tw</td>\n",
       "    </tr>\n",
       "    <tr>\n",
       "      <th>1</th>\n",
       "      <td>陳○○</td>\n",
       "      <td>Executive Office</td>\n",
       "      <td>employee2@email.com.tw</td>\n",
       "    </tr>\n",
       "    <tr>\n",
       "      <th>2</th>\n",
       "      <td>高○○</td>\n",
       "      <td>Executive Office</td>\n",
       "      <td>employee3@email.com.tw</td>\n",
       "    </tr>\n",
       "    <tr>\n",
       "      <th>3</th>\n",
       "      <td>蔡○○</td>\n",
       "      <td>Executive Office</td>\n",
       "      <td>employee4@email.com.tw</td>\n",
       "    </tr>\n",
       "    <tr>\n",
       "      <th>4</th>\n",
       "      <td>林○○</td>\n",
       "      <td>Executive Office</td>\n",
       "      <td>employee5@email.com.tw</td>\n",
       "    </tr>\n",
       "  </tbody>\n",
       "</table>\n",
       "</div>"
      ],
      "text/plain": [
       "  Name        Department                   Email\n",
       "0  陳○○  Executive Office  employee1@email.com.tw\n",
       "1  陳○○  Executive Office  employee2@email.com.tw\n",
       "2  高○○  Executive Office  employee3@email.com.tw\n",
       "3  蔡○○  Executive Office  employee4@email.com.tw\n",
       "4  林○○  Executive Office  employee5@email.com.tw"
      ]
     },
     "execution_count": 3,
     "metadata": {},
     "output_type": "execute_result"
    }
   ],
   "source": [
    "email.head()"
   ]
  },
  {
   "cell_type": "markdown",
   "metadata": {},
   "source": [
    "郵件清單包含3個欄位，分別為姓名、部門和郵件位址<br>\n",
    "我們希望將郵件清單和各封郵件的演練報告合併在一起，方便分析檢視<br>\n",
    "因此接著來看演練報告的內容和格式"
   ]
  },
  {
   "cell_type": "markdown",
   "metadata": {},
   "source": [
    "## Step 3. 讀取演練報告"
   ]
  },
  {
   "cell_type": "code",
   "execution_count": 4,
   "metadata": {},
   "outputs": [],
   "source": [
    "first_report = pd.read_excel('first.xlsx')"
   ]
  },
  {
   "cell_type": "code",
   "execution_count": 5,
   "metadata": {},
   "outputs": [
    {
     "data": {
      "text/html": [
       "<div>\n",
       "<style scoped>\n",
       "    .dataframe tbody tr th:only-of-type {\n",
       "        vertical-align: middle;\n",
       "    }\n",
       "\n",
       "    .dataframe tbody tr th {\n",
       "        vertical-align: top;\n",
       "    }\n",
       "\n",
       "    .dataframe thead th {\n",
       "        text-align: right;\n",
       "    }\n",
       "</style>\n",
       "<table border=\"1\" class=\"dataframe\">\n",
       "  <thead>\n",
       "    <tr style=\"text-align: right;\">\n",
       "      <th></th>\n",
       "      <th>Email</th>\n",
       "      <th>Email First Viewed</th>\n",
       "      <th>Email Viewed</th>\n",
       "      <th>Link First Clicked</th>\n",
       "      <th>Link Clicked</th>\n",
       "    </tr>\n",
       "  </thead>\n",
       "  <tbody>\n",
       "    <tr>\n",
       "      <th>0</th>\n",
       "      <td>employee6@email.com.tw</td>\n",
       "      <td>NaN</td>\n",
       "      <td>False</td>\n",
       "      <td>NaN</td>\n",
       "      <td>False</td>\n",
       "    </tr>\n",
       "    <tr>\n",
       "      <th>1</th>\n",
       "      <td>employee12@email.com.tw</td>\n",
       "      <td>NaN</td>\n",
       "      <td>False</td>\n",
       "      <td>NaN</td>\n",
       "      <td>False</td>\n",
       "    </tr>\n",
       "    <tr>\n",
       "      <th>2</th>\n",
       "      <td>employee18@email.com.tw</td>\n",
       "      <td>NaN</td>\n",
       "      <td>False</td>\n",
       "      <td>NaN</td>\n",
       "      <td>False</td>\n",
       "    </tr>\n",
       "    <tr>\n",
       "      <th>3</th>\n",
       "      <td>employee24@email.com.tw</td>\n",
       "      <td>NaN</td>\n",
       "      <td>False</td>\n",
       "      <td>NaN</td>\n",
       "      <td>False</td>\n",
       "    </tr>\n",
       "    <tr>\n",
       "      <th>4</th>\n",
       "      <td>employee30@email.com.tw</td>\n",
       "      <td>NaN</td>\n",
       "      <td>False</td>\n",
       "      <td>NaN</td>\n",
       "      <td>False</td>\n",
       "    </tr>\n",
       "  </tbody>\n",
       "</table>\n",
       "</div>"
      ],
      "text/plain": [
       "                     Email Email First Viewed  Email Viewed  \\\n",
       "0   employee6@email.com.tw                NaN         False   \n",
       "1  employee12@email.com.tw                NaN         False   \n",
       "2  employee18@email.com.tw                NaN         False   \n",
       "3  employee24@email.com.tw                NaN         False   \n",
       "4  employee30@email.com.tw                NaN         False   \n",
       "\n",
       "  Link First Clicked  Link Clicked  \n",
       "0                NaN         False  \n",
       "1                NaN         False  \n",
       "2                NaN         False  \n",
       "3                NaN         False  \n",
       "4                NaN         False  "
      ]
     },
     "execution_count": 5,
     "metadata": {},
     "output_type": "execute_result"
    }
   ],
   "source": [
    "first_report.head()"
   ]
  },
  {
   "cell_type": "markdown",
   "metadata": {},
   "source": [
    "報告包含5個欄位，分別為：<br>\n",
    "1. Email：郵件位址\n",
    "2. Email First Viewed：第一次閱讀郵件的時間\n",
    "3. Email Viewed：是否閱讀郵件\n",
    "4. Link First Clicked：第一次點擊連結的時間\n",
    "5. Link Clicked：是否點擊連結"
   ]
  },
  {
   "cell_type": "markdown",
   "metadata": {},
   "source": [
    "觀察後做出以下結論：\n",
    "1. 報告的「Email」欄位即為郵件清單的「Email」欄位，可以作為合併資料時的基準\n",
    "2. 欄位沒有包含報告名稱，每份報告的欄位名稱都相同；為避免合併資料時造成錯誤，在合併前需要先調整欄位名稱\n",
    "3. 由於我們只想瞭解收件者有無動作，不考慮發生時間，因此省略「Email First Viewed」、「Link First Clicked」欄位"
   ]
  },
  {
   "cell_type": "markdown",
   "metadata": {},
   "source": [
    "我們可以讀取3份報告後，分別存入對應變數中(例如：first_report、second_report...)，再和郵件清單合併<br>\n",
    "但未來在執行社交工程演練時，可能不只3封郵件，再加上動作是重複的，因此使用迴圈來完成工作比較合適"
   ]
  },
  {
   "cell_type": "markdown",
   "metadata": {},
   "source": [
    "## Step 4. 讀取演練報告，並且和郵件清單合併"
   ]
  },
  {
   "cell_type": "code",
   "execution_count": 6,
   "metadata": {},
   "outputs": [],
   "source": [
    "report_name_list = ['first.xlsx', 'second.xlsx', 'third.xlsx'] #演練報告的名稱\n",
    "report_list = [] #用於暫存演練報告\n",
    "\n",
    "for report_name in report_name_list:\n",
    "    report_name_cleaned = report_name.split(\".\")[0].capitalize() #取得演練報告的名稱\n",
    "    report = pd.read_excel(report_name) #讀取演練報告\n",
    "    report = report[['Email', 'Email Viewed', 'Link Clicked']] #篩選出需要的欄位\n",
    "    report.rename(columns={'Email Viewed':report_name_cleaned + ' Email Viewed', 'Link Clicked':report_name_cleaned + ' Link Clicked'}, inplace=True) #調整欄位名稱，避免重複\n",
    "    report_list.append(report) #將演練報告加入report_list，稍後用於合併\n",
    "    \n",
    "for report in report_list:\n",
    "    email = email.merge(report, on='Email') #將郵件清單和演練報告進行合併"
   ]
  },
  {
   "cell_type": "markdown",
   "metadata": {},
   "source": [
    "檢視合併後的的郵件清單"
   ]
  },
  {
   "cell_type": "code",
   "execution_count": 7,
   "metadata": {},
   "outputs": [
    {
     "data": {
      "text/html": [
       "<div>\n",
       "<style scoped>\n",
       "    .dataframe tbody tr th:only-of-type {\n",
       "        vertical-align: middle;\n",
       "    }\n",
       "\n",
       "    .dataframe tbody tr th {\n",
       "        vertical-align: top;\n",
       "    }\n",
       "\n",
       "    .dataframe thead th {\n",
       "        text-align: right;\n",
       "    }\n",
       "</style>\n",
       "<table border=\"1\" class=\"dataframe\">\n",
       "  <thead>\n",
       "    <tr style=\"text-align: right;\">\n",
       "      <th></th>\n",
       "      <th>Name</th>\n",
       "      <th>Department</th>\n",
       "      <th>Email</th>\n",
       "      <th>First Email Viewed</th>\n",
       "      <th>First Link Clicked</th>\n",
       "      <th>Second Email Viewed</th>\n",
       "      <th>Second Link Clicked</th>\n",
       "      <th>Third Email Viewed</th>\n",
       "      <th>Third Link Clicked</th>\n",
       "    </tr>\n",
       "  </thead>\n",
       "  <tbody>\n",
       "    <tr>\n",
       "      <th>0</th>\n",
       "      <td>陳○○</td>\n",
       "      <td>Executive Office</td>\n",
       "      <td>employee1@email.com.tw</td>\n",
       "      <td>True</td>\n",
       "      <td>False</td>\n",
       "      <td>True</td>\n",
       "      <td>False</td>\n",
       "      <td>True</td>\n",
       "      <td>False</td>\n",
       "    </tr>\n",
       "    <tr>\n",
       "      <th>1</th>\n",
       "      <td>陳○○</td>\n",
       "      <td>Executive Office</td>\n",
       "      <td>employee2@email.com.tw</td>\n",
       "      <td>False</td>\n",
       "      <td>False</td>\n",
       "      <td>False</td>\n",
       "      <td>False</td>\n",
       "      <td>False</td>\n",
       "      <td>False</td>\n",
       "    </tr>\n",
       "    <tr>\n",
       "      <th>2</th>\n",
       "      <td>高○○</td>\n",
       "      <td>Executive Office</td>\n",
       "      <td>employee3@email.com.tw</td>\n",
       "      <td>False</td>\n",
       "      <td>False</td>\n",
       "      <td>False</td>\n",
       "      <td>False</td>\n",
       "      <td>False</td>\n",
       "      <td>False</td>\n",
       "    </tr>\n",
       "    <tr>\n",
       "      <th>3</th>\n",
       "      <td>蔡○○</td>\n",
       "      <td>Executive Office</td>\n",
       "      <td>employee4@email.com.tw</td>\n",
       "      <td>False</td>\n",
       "      <td>False</td>\n",
       "      <td>False</td>\n",
       "      <td>False</td>\n",
       "      <td>False</td>\n",
       "      <td>False</td>\n",
       "    </tr>\n",
       "    <tr>\n",
       "      <th>4</th>\n",
       "      <td>林○○</td>\n",
       "      <td>Executive Office</td>\n",
       "      <td>employee5@email.com.tw</td>\n",
       "      <td>False</td>\n",
       "      <td>False</td>\n",
       "      <td>False</td>\n",
       "      <td>False</td>\n",
       "      <td>False</td>\n",
       "      <td>False</td>\n",
       "    </tr>\n",
       "  </tbody>\n",
       "</table>\n",
       "</div>"
      ],
      "text/plain": [
       "  Name        Department                   Email  First Email Viewed  \\\n",
       "0  陳○○  Executive Office  employee1@email.com.tw                True   \n",
       "1  陳○○  Executive Office  employee2@email.com.tw               False   \n",
       "2  高○○  Executive Office  employee3@email.com.tw               False   \n",
       "3  蔡○○  Executive Office  employee4@email.com.tw               False   \n",
       "4  林○○  Executive Office  employee5@email.com.tw               False   \n",
       "\n",
       "   First Link Clicked  Second Email Viewed  Second Link Clicked  \\\n",
       "0               False                 True                False   \n",
       "1               False                False                False   \n",
       "2               False                False                False   \n",
       "3               False                False                False   \n",
       "4               False                False                False   \n",
       "\n",
       "   Third Email Viewed  Third Link Clicked  \n",
       "0                True               False  \n",
       "1               False               False  \n",
       "2               False               False  \n",
       "3               False               False  \n",
       "4               False               False  "
      ]
     },
     "execution_count": 7,
     "metadata": {},
     "output_type": "execute_result"
    }
   ],
   "source": [
    "email.head()"
   ]
  },
  {
   "cell_type": "markdown",
   "metadata": {},
   "source": [
    "在開始分析演練結果前，我們可以新增幾個欄位，方便之後分析和檢視"
   ]
  },
  {
   "cell_type": "markdown",
   "metadata": {},
   "source": [
    "## Step 5. 新增有助於分析和檢視的欄位"
   ]
  },
  {
   "cell_type": "markdown",
   "metadata": {},
   "source": [
    "新增2個欄位：「Email Viewed」和「Link Clicked」，代表收件者有沒有閱讀郵件或點擊連結"
   ]
  },
  {
   "cell_type": "code",
   "execution_count": 8,
   "metadata": {},
   "outputs": [],
   "source": [
    "email['Email Viewed'] = np.where(email[['First Email Viewed', 'Second Email Viewed', 'Third Email Viewed']].sum(axis=1) != 0, True, False)\n",
    "email['Link Clicked'] = np.where(email[['First Link Clicked', 'Second Link Clicked', 'Third Link Clicked']].sum(axis=1) != 0, True, False)"
   ]
  },
  {
   "cell_type": "markdown",
   "metadata": {},
   "source": [
    "再新增3個欄位：「Number of Views」、「Number of Clicks」和「Number of Actions」，代表閱讀郵件、點擊連結和總行為次數"
   ]
  },
  {
   "cell_type": "code",
   "execution_count": 9,
   "metadata": {},
   "outputs": [],
   "source": [
    "email['Number of Views'] = email[['First Email Viewed', 'Second Email Viewed', 'Third Email Viewed']].sum(axis=1)\n",
    "email['Number of Clicks'] = email[['First Link Clicked', 'Second Link Clicked', 'Third Link Clicked']].sum(axis=1)\n",
    "email['Number of Actions'] = email.iloc[:, 3:11].sum(axis=1)"
   ]
  },
  {
   "cell_type": "markdown",
   "metadata": {},
   "source": [
    "檢視新增欄位後的郵件清單"
   ]
  },
  {
   "cell_type": "code",
   "execution_count": 10,
   "metadata": {},
   "outputs": [
    {
     "data": {
      "text/html": [
       "<div>\n",
       "<style scoped>\n",
       "    .dataframe tbody tr th:only-of-type {\n",
       "        vertical-align: middle;\n",
       "    }\n",
       "\n",
       "    .dataframe tbody tr th {\n",
       "        vertical-align: top;\n",
       "    }\n",
       "\n",
       "    .dataframe thead th {\n",
       "        text-align: right;\n",
       "    }\n",
       "</style>\n",
       "<table border=\"1\" class=\"dataframe\">\n",
       "  <thead>\n",
       "    <tr style=\"text-align: right;\">\n",
       "      <th></th>\n",
       "      <th>Name</th>\n",
       "      <th>Department</th>\n",
       "      <th>Email</th>\n",
       "      <th>First Email Viewed</th>\n",
       "      <th>First Link Clicked</th>\n",
       "      <th>Second Email Viewed</th>\n",
       "      <th>Second Link Clicked</th>\n",
       "      <th>Third Email Viewed</th>\n",
       "      <th>Third Link Clicked</th>\n",
       "      <th>Email Viewed</th>\n",
       "      <th>Link Clicked</th>\n",
       "      <th>Number of Views</th>\n",
       "      <th>Number of Clicks</th>\n",
       "      <th>Number of Actions</th>\n",
       "    </tr>\n",
       "  </thead>\n",
       "  <tbody>\n",
       "    <tr>\n",
       "      <th>0</th>\n",
       "      <td>陳○○</td>\n",
       "      <td>Executive Office</td>\n",
       "      <td>employee1@email.com.tw</td>\n",
       "      <td>True</td>\n",
       "      <td>False</td>\n",
       "      <td>True</td>\n",
       "      <td>False</td>\n",
       "      <td>True</td>\n",
       "      <td>False</td>\n",
       "      <td>True</td>\n",
       "      <td>False</td>\n",
       "      <td>3</td>\n",
       "      <td>0</td>\n",
       "      <td>4</td>\n",
       "    </tr>\n",
       "    <tr>\n",
       "      <th>1</th>\n",
       "      <td>陳○○</td>\n",
       "      <td>Executive Office</td>\n",
       "      <td>employee2@email.com.tw</td>\n",
       "      <td>False</td>\n",
       "      <td>False</td>\n",
       "      <td>False</td>\n",
       "      <td>False</td>\n",
       "      <td>False</td>\n",
       "      <td>False</td>\n",
       "      <td>False</td>\n",
       "      <td>False</td>\n",
       "      <td>0</td>\n",
       "      <td>0</td>\n",
       "      <td>0</td>\n",
       "    </tr>\n",
       "    <tr>\n",
       "      <th>2</th>\n",
       "      <td>高○○</td>\n",
       "      <td>Executive Office</td>\n",
       "      <td>employee3@email.com.tw</td>\n",
       "      <td>False</td>\n",
       "      <td>False</td>\n",
       "      <td>False</td>\n",
       "      <td>False</td>\n",
       "      <td>False</td>\n",
       "      <td>False</td>\n",
       "      <td>False</td>\n",
       "      <td>False</td>\n",
       "      <td>0</td>\n",
       "      <td>0</td>\n",
       "      <td>0</td>\n",
       "    </tr>\n",
       "    <tr>\n",
       "      <th>3</th>\n",
       "      <td>蔡○○</td>\n",
       "      <td>Executive Office</td>\n",
       "      <td>employee4@email.com.tw</td>\n",
       "      <td>False</td>\n",
       "      <td>False</td>\n",
       "      <td>False</td>\n",
       "      <td>False</td>\n",
       "      <td>False</td>\n",
       "      <td>False</td>\n",
       "      <td>False</td>\n",
       "      <td>False</td>\n",
       "      <td>0</td>\n",
       "      <td>0</td>\n",
       "      <td>0</td>\n",
       "    </tr>\n",
       "    <tr>\n",
       "      <th>4</th>\n",
       "      <td>林○○</td>\n",
       "      <td>Executive Office</td>\n",
       "      <td>employee5@email.com.tw</td>\n",
       "      <td>False</td>\n",
       "      <td>False</td>\n",
       "      <td>False</td>\n",
       "      <td>False</td>\n",
       "      <td>False</td>\n",
       "      <td>False</td>\n",
       "      <td>False</td>\n",
       "      <td>False</td>\n",
       "      <td>0</td>\n",
       "      <td>0</td>\n",
       "      <td>0</td>\n",
       "    </tr>\n",
       "  </tbody>\n",
       "</table>\n",
       "</div>"
      ],
      "text/plain": [
       "  Name        Department                   Email  First Email Viewed  \\\n",
       "0  陳○○  Executive Office  employee1@email.com.tw                True   \n",
       "1  陳○○  Executive Office  employee2@email.com.tw               False   \n",
       "2  高○○  Executive Office  employee3@email.com.tw               False   \n",
       "3  蔡○○  Executive Office  employee4@email.com.tw               False   \n",
       "4  林○○  Executive Office  employee5@email.com.tw               False   \n",
       "\n",
       "   First Link Clicked  Second Email Viewed  Second Link Clicked  \\\n",
       "0               False                 True                False   \n",
       "1               False                False                False   \n",
       "2               False                False                False   \n",
       "3               False                False                False   \n",
       "4               False                False                False   \n",
       "\n",
       "   Third Email Viewed  Third Link Clicked  Email Viewed  Link Clicked  \\\n",
       "0                True               False          True         False   \n",
       "1               False               False         False         False   \n",
       "2               False               False         False         False   \n",
       "3               False               False         False         False   \n",
       "4               False               False         False         False   \n",
       "\n",
       "   Number of Views  Number of Clicks  Number of Actions  \n",
       "0                3                 0                  4  \n",
       "1                0                 0                  0  \n",
       "2                0                 0                  0  \n",
       "3                0                 0                  0  \n",
       "4                0                 0                  0  "
      ]
     },
     "execution_count": 10,
     "metadata": {},
     "output_type": "execute_result"
    }
   ],
   "source": [
    "email.head()"
   ]
  },
  {
   "cell_type": "markdown",
   "metadata": {},
   "source": [
    "有關資料預處理的部份到此告一段落<br>\n",
    "由於phishing frenzy提供表格化的演練報告，因此不需要做太多調整，情境較為單純<br>\n",
    "我們接著開始對演練內容進行分析和檢視"
   ]
  },
  {
   "cell_type": "markdown",
   "metadata": {},
   "source": [
    "## Step 6. 演練分析和檢視"
   ]
  },
  {
   "cell_type": "markdown",
   "metadata": {},
   "source": [
    "### 首先，我們從個人的角度去分析和檢視"
   ]
  },
  {
   "cell_type": "markdown",
   "metadata": {},
   "source": [
    "Qestion 1. 哪位收件者閱讀最多社交工程郵件? Answer：陳○○、王○○和顏○○，3次"
   ]
  },
  {
   "cell_type": "code",
   "execution_count": 11,
   "metadata": {},
   "outputs": [
    {
     "data": {
      "text/html": [
       "<div>\n",
       "<style scoped>\n",
       "    .dataframe tbody tr th:only-of-type {\n",
       "        vertical-align: middle;\n",
       "    }\n",
       "\n",
       "    .dataframe tbody tr th {\n",
       "        vertical-align: top;\n",
       "    }\n",
       "\n",
       "    .dataframe thead th {\n",
       "        text-align: right;\n",
       "    }\n",
       "</style>\n",
       "<table border=\"1\" class=\"dataframe\">\n",
       "  <thead>\n",
       "    <tr style=\"text-align: right;\">\n",
       "      <th></th>\n",
       "      <th>Name</th>\n",
       "      <th>Department</th>\n",
       "      <th>Number of Views</th>\n",
       "    </tr>\n",
       "  </thead>\n",
       "  <tbody>\n",
       "    <tr>\n",
       "      <th>0</th>\n",
       "      <td>陳○○</td>\n",
       "      <td>Executive Office</td>\n",
       "      <td>3</td>\n",
       "    </tr>\n",
       "    <tr>\n",
       "      <th>568</th>\n",
       "      <td>王○○</td>\n",
       "      <td>Customer Service</td>\n",
       "      <td>3</td>\n",
       "    </tr>\n",
       "    <tr>\n",
       "      <th>268</th>\n",
       "      <td>顏○○</td>\n",
       "      <td>Finance &amp; Accounting</td>\n",
       "      <td>3</td>\n",
       "    </tr>\n",
       "    <tr>\n",
       "      <th>124</th>\n",
       "      <td>黃○○</td>\n",
       "      <td>Agency Channel</td>\n",
       "      <td>2</td>\n",
       "    </tr>\n",
       "    <tr>\n",
       "      <th>621</th>\n",
       "      <td>楊○○</td>\n",
       "      <td>Customer Service</td>\n",
       "      <td>2</td>\n",
       "    </tr>\n",
       "  </tbody>\n",
       "</table>\n",
       "</div>"
      ],
      "text/plain": [
       "    Name            Department  Number of Views\n",
       "0    陳○○      Executive Office                3\n",
       "568  王○○      Customer Service                3\n",
       "268  顏○○  Finance & Accounting                3\n",
       "124  黃○○        Agency Channel                2\n",
       "621  楊○○      Customer Service                2"
      ]
     },
     "execution_count": 11,
     "metadata": {},
     "output_type": "execute_result"
    }
   ],
   "source": [
    "email.sort_values('Number of Views', ascending=False)[['Name', 'Department', 'Number of Views']].head(5)"
   ]
  },
  {
   "cell_type": "markdown",
   "metadata": {},
   "source": [
    "Question 2. 哪位收件者點擊最多次連結? Answer：多位同仁點擊1次，並列第一"
   ]
  },
  {
   "cell_type": "code",
   "execution_count": 12,
   "metadata": {},
   "outputs": [
    {
     "data": {
      "text/html": [
       "<div>\n",
       "<style scoped>\n",
       "    .dataframe tbody tr th:only-of-type {\n",
       "        vertical-align: middle;\n",
       "    }\n",
       "\n",
       "    .dataframe tbody tr th {\n",
       "        vertical-align: top;\n",
       "    }\n",
       "\n",
       "    .dataframe thead th {\n",
       "        text-align: right;\n",
       "    }\n",
       "</style>\n",
       "<table border=\"1\" class=\"dataframe\">\n",
       "  <thead>\n",
       "    <tr style=\"text-align: right;\">\n",
       "      <th></th>\n",
       "      <th>Name</th>\n",
       "      <th>Department</th>\n",
       "      <th>Number of Clicks</th>\n",
       "    </tr>\n",
       "  </thead>\n",
       "  <tbody>\n",
       "    <tr>\n",
       "      <th>456</th>\n",
       "      <td>蔡○○</td>\n",
       "      <td>Customer Service</td>\n",
       "      <td>1</td>\n",
       "    </tr>\n",
       "    <tr>\n",
       "      <th>370</th>\n",
       "      <td>鍾○○</td>\n",
       "      <td>Human Resources</td>\n",
       "      <td>1</td>\n",
       "    </tr>\n",
       "    <tr>\n",
       "      <th>221</th>\n",
       "      <td>林○○</td>\n",
       "      <td>Bancassurance &amp; Institution Dept</td>\n",
       "      <td>1</td>\n",
       "    </tr>\n",
       "    <tr>\n",
       "      <th>119</th>\n",
       "      <td>詹○○</td>\n",
       "      <td>Agency Channel</td>\n",
       "      <td>1</td>\n",
       "    </tr>\n",
       "    <tr>\n",
       "      <th>170</th>\n",
       "      <td>莊○○</td>\n",
       "      <td>Agency Channel</td>\n",
       "      <td>1</td>\n",
       "    </tr>\n",
       "  </tbody>\n",
       "</table>\n",
       "</div>"
      ],
      "text/plain": [
       "    Name                        Department  Number of Clicks\n",
       "456  蔡○○                  Customer Service                 1\n",
       "370  鍾○○                   Human Resources                 1\n",
       "221  林○○  Bancassurance & Institution Dept                 1\n",
       "119  詹○○                    Agency Channel                 1\n",
       "170  莊○○                    Agency Channel                 1"
      ]
     },
     "execution_count": 12,
     "metadata": {},
     "output_type": "execute_result"
    }
   ],
   "source": [
    "email.sort_values('Number of Clicks', ascending=False)[['Name', 'Department', 'Number of Clicks']].head(5)"
   ]
  },
  {
   "cell_type": "markdown",
   "metadata": {},
   "source": [
    "Question 3. 哪位收件者執行最多次動作? Answer：鍾○○，共5次"
   ]
  },
  {
   "cell_type": "code",
   "execution_count": 13,
   "metadata": {},
   "outputs": [
    {
     "data": {
      "text/html": [
       "<div>\n",
       "<style scoped>\n",
       "    .dataframe tbody tr th:only-of-type {\n",
       "        vertical-align: middle;\n",
       "    }\n",
       "\n",
       "    .dataframe tbody tr th {\n",
       "        vertical-align: top;\n",
       "    }\n",
       "\n",
       "    .dataframe thead th {\n",
       "        text-align: right;\n",
       "    }\n",
       "</style>\n",
       "<table border=\"1\" class=\"dataframe\">\n",
       "  <thead>\n",
       "    <tr style=\"text-align: right;\">\n",
       "      <th></th>\n",
       "      <th>Name</th>\n",
       "      <th>Department</th>\n",
       "      <th>Number of Actions</th>\n",
       "    </tr>\n",
       "  </thead>\n",
       "  <tbody>\n",
       "    <tr>\n",
       "      <th>370</th>\n",
       "      <td>鍾○○</td>\n",
       "      <td>Human Resources</td>\n",
       "      <td>5</td>\n",
       "    </tr>\n",
       "    <tr>\n",
       "      <th>0</th>\n",
       "      <td>陳○○</td>\n",
       "      <td>Executive Office</td>\n",
       "      <td>4</td>\n",
       "    </tr>\n",
       "    <tr>\n",
       "      <th>684</th>\n",
       "      <td>蒲○○</td>\n",
       "      <td>Customer Service</td>\n",
       "      <td>4</td>\n",
       "    </tr>\n",
       "    <tr>\n",
       "      <th>200</th>\n",
       "      <td>李○○</td>\n",
       "      <td>Bancassurance &amp; Institution Dept</td>\n",
       "      <td>4</td>\n",
       "    </tr>\n",
       "    <tr>\n",
       "      <th>285</th>\n",
       "      <td>洪○○</td>\n",
       "      <td>Finance &amp; Accounting</td>\n",
       "      <td>4</td>\n",
       "    </tr>\n",
       "  </tbody>\n",
       "</table>\n",
       "</div>"
      ],
      "text/plain": [
       "    Name                        Department  Number of Actions\n",
       "370  鍾○○                   Human Resources                  5\n",
       "0    陳○○                  Executive Office                  4\n",
       "684  蒲○○                  Customer Service                  4\n",
       "200  李○○  Bancassurance & Institution Dept                  4\n",
       "285  洪○○              Finance & Accounting                  4"
      ]
     },
     "execution_count": 13,
     "metadata": {},
     "output_type": "execute_result"
    }
   ],
   "source": [
    "email.sort_values('Number of Actions', ascending=False)[['Name', 'Department', 'Number of Actions']].head(5)"
   ]
  },
  {
   "cell_type": "markdown",
   "metadata": {},
   "source": [
    "Question 4. 哪一封信的閱讀次數最高? Answer：第二封信，18次"
   ]
  },
  {
   "cell_type": "code",
   "execution_count": 14,
   "metadata": {},
   "outputs": [
    {
     "data": {
      "text/plain": [
       "Second Email Viewed    18\n",
       "Third Email Viewed     14\n",
       "First Email Viewed      9\n",
       "dtype: int64"
      ]
     },
     "execution_count": 14,
     "metadata": {},
     "output_type": "execute_result"
    }
   ],
   "source": [
    "email[['First Email Viewed', 'Second Email Viewed', 'Third Email Viewed']].sum().sort_values(ascending=False)"
   ]
  },
  {
   "cell_type": "markdown",
   "metadata": {},
   "source": [
    "Question 5. 哪一封信的點擊連結次數最多? Answer：第二、三封信，9次"
   ]
  },
  {
   "cell_type": "code",
   "execution_count": 15,
   "metadata": {},
   "outputs": [
    {
     "data": {
      "text/plain": [
       "Third Link Clicked     9\n",
       "Second Link Clicked    9\n",
       "First Link Clicked     1\n",
       "dtype: int64"
      ]
     },
     "execution_count": 15,
     "metadata": {},
     "output_type": "execute_result"
    }
   ],
   "source": [
    "email[['First Link Clicked', 'Second Link Clicked', 'Third Link Clicked']].sum().sort_values(ascending=False)"
   ]
  },
  {
   "cell_type": "markdown",
   "metadata": {},
   "source": [
    "### 接著，從部門的角度去分析和檢視"
   ]
  },
  {
   "cell_type": "code",
   "execution_count": 16,
   "metadata": {},
   "outputs": [],
   "source": [
    "groupby_department = email.groupby('Department').sum() #依部門分組"
   ]
  },
  {
   "cell_type": "code",
   "execution_count": 17,
   "metadata": {},
   "outputs": [
    {
     "data": {
      "text/html": [
       "<div>\n",
       "<style scoped>\n",
       "    .dataframe tbody tr th:only-of-type {\n",
       "        vertical-align: middle;\n",
       "    }\n",
       "\n",
       "    .dataframe tbody tr th {\n",
       "        vertical-align: top;\n",
       "    }\n",
       "\n",
       "    .dataframe thead th {\n",
       "        text-align: right;\n",
       "    }\n",
       "</style>\n",
       "<table border=\"1\" class=\"dataframe\">\n",
       "  <thead>\n",
       "    <tr style=\"text-align: right;\">\n",
       "      <th></th>\n",
       "      <th>First Email Viewed</th>\n",
       "      <th>First Link Clicked</th>\n",
       "      <th>Second Email Viewed</th>\n",
       "      <th>Second Link Clicked</th>\n",
       "      <th>Third Email Viewed</th>\n",
       "      <th>Third Link Clicked</th>\n",
       "      <th>Email Viewed</th>\n",
       "      <th>Link Clicked</th>\n",
       "      <th>Number of Views</th>\n",
       "      <th>Number of Clicks</th>\n",
       "      <th>Number of Actions</th>\n",
       "    </tr>\n",
       "    <tr>\n",
       "      <th>Department</th>\n",
       "      <th></th>\n",
       "      <th></th>\n",
       "      <th></th>\n",
       "      <th></th>\n",
       "      <th></th>\n",
       "      <th></th>\n",
       "      <th></th>\n",
       "      <th></th>\n",
       "      <th></th>\n",
       "      <th></th>\n",
       "      <th></th>\n",
       "    </tr>\n",
       "  </thead>\n",
       "  <tbody>\n",
       "    <tr>\n",
       "      <th>Agency Channel</th>\n",
       "      <td>1.0</td>\n",
       "      <td>0.0</td>\n",
       "      <td>4.0</td>\n",
       "      <td>1.0</td>\n",
       "      <td>3.0</td>\n",
       "      <td>2.0</td>\n",
       "      <td>7.0</td>\n",
       "      <td>3.0</td>\n",
       "      <td>8</td>\n",
       "      <td>3</td>\n",
       "      <td>21</td>\n",
       "    </tr>\n",
       "    <tr>\n",
       "      <th>Bancassurance &amp; Institution Dept</th>\n",
       "      <td>1.0</td>\n",
       "      <td>0.0</td>\n",
       "      <td>3.0</td>\n",
       "      <td>3.0</td>\n",
       "      <td>2.0</td>\n",
       "      <td>2.0</td>\n",
       "      <td>6.0</td>\n",
       "      <td>5.0</td>\n",
       "      <td>6</td>\n",
       "      <td>5</td>\n",
       "      <td>22</td>\n",
       "    </tr>\n",
       "    <tr>\n",
       "      <th>Commercial Insurance</th>\n",
       "      <td>0.0</td>\n",
       "      <td>0.0</td>\n",
       "      <td>0.0</td>\n",
       "      <td>0.0</td>\n",
       "      <td>0.0</td>\n",
       "      <td>0.0</td>\n",
       "      <td>0.0</td>\n",
       "      <td>0.0</td>\n",
       "      <td>0</td>\n",
       "      <td>0</td>\n",
       "      <td>0</td>\n",
       "    </tr>\n",
       "    <tr>\n",
       "      <th>Compliance &amp; Legal</th>\n",
       "      <td>0.0</td>\n",
       "      <td>0.0</td>\n",
       "      <td>0.0</td>\n",
       "      <td>0.0</td>\n",
       "      <td>0.0</td>\n",
       "      <td>0.0</td>\n",
       "      <td>0.0</td>\n",
       "      <td>0.0</td>\n",
       "      <td>0</td>\n",
       "      <td>0</td>\n",
       "      <td>0</td>\n",
       "    </tr>\n",
       "    <tr>\n",
       "      <th>Consumer Insurance</th>\n",
       "      <td>0.0</td>\n",
       "      <td>0.0</td>\n",
       "      <td>0.0</td>\n",
       "      <td>0.0</td>\n",
       "      <td>0.0</td>\n",
       "      <td>0.0</td>\n",
       "      <td>0.0</td>\n",
       "      <td>0.0</td>\n",
       "      <td>0</td>\n",
       "      <td>0</td>\n",
       "      <td>0</td>\n",
       "    </tr>\n",
       "  </tbody>\n",
       "</table>\n",
       "</div>"
      ],
      "text/plain": [
       "                                  First Email Viewed  First Link Clicked  \\\n",
       "Department                                                                 \n",
       "Agency Channel                                   1.0                 0.0   \n",
       "Bancassurance & Institution Dept                 1.0                 0.0   \n",
       "Commercial Insurance                             0.0                 0.0   \n",
       "Compliance & Legal                               0.0                 0.0   \n",
       "Consumer Insurance                               0.0                 0.0   \n",
       "\n",
       "                                  Second Email Viewed  Second Link Clicked  \\\n",
       "Department                                                                   \n",
       "Agency Channel                                    4.0                  1.0   \n",
       "Bancassurance & Institution Dept                  3.0                  3.0   \n",
       "Commercial Insurance                              0.0                  0.0   \n",
       "Compliance & Legal                                0.0                  0.0   \n",
       "Consumer Insurance                                0.0                  0.0   \n",
       "\n",
       "                                  Third Email Viewed  Third Link Clicked  \\\n",
       "Department                                                                 \n",
       "Agency Channel                                   3.0                 2.0   \n",
       "Bancassurance & Institution Dept                 2.0                 2.0   \n",
       "Commercial Insurance                             0.0                 0.0   \n",
       "Compliance & Legal                               0.0                 0.0   \n",
       "Consumer Insurance                               0.0                 0.0   \n",
       "\n",
       "                                  Email Viewed  Link Clicked  Number of Views  \\\n",
       "Department                                                                      \n",
       "Agency Channel                             7.0           3.0                8   \n",
       "Bancassurance & Institution Dept           6.0           5.0                6   \n",
       "Commercial Insurance                       0.0           0.0                0   \n",
       "Compliance & Legal                         0.0           0.0                0   \n",
       "Consumer Insurance                         0.0           0.0                0   \n",
       "\n",
       "                                  Number of Clicks  Number of Actions  \n",
       "Department                                                             \n",
       "Agency Channel                                   3                 21  \n",
       "Bancassurance & Institution Dept                 5                 22  \n",
       "Commercial Insurance                             0                  0  \n",
       "Compliance & Legal                               0                  0  \n",
       "Consumer Insurance                               0                  0  "
      ]
     },
     "execution_count": 17,
     "metadata": {},
     "output_type": "execute_result"
    }
   ],
   "source": [
    "groupby_department.head() # 檢視依部門分組後的前5列"
   ]
  },
  {
   "cell_type": "markdown",
   "metadata": {},
   "source": [
    "Question 6. 哪個部門有最多閱讀郵件的人? Answer：Customer Service，共11次"
   ]
  },
  {
   "cell_type": "code",
   "execution_count": 18,
   "metadata": {},
   "outputs": [
    {
     "data": {
      "text/plain": [
       "Department\n",
       "Customer Service                    11.0\n",
       "Agency Channel                       7.0\n",
       "Bancassurance & Institution Dept     6.0\n",
       "Finance & Accounting                 3.0\n",
       "Technology & Application             1.0\n",
       "Name: Email Viewed, dtype: float64"
      ]
     },
     "execution_count": 18,
     "metadata": {},
     "output_type": "execute_result"
    }
   ],
   "source": [
    "groupby_department['Email Viewed'].sort_values(ascending=False).head()"
   ]
  },
  {
   "cell_type": "markdown",
   "metadata": {},
   "source": [
    "Question 7. 哪個部門有最多點擊連結的人? Answer：Customer Service，共8次"
   ]
  },
  {
   "cell_type": "code",
   "execution_count": 19,
   "metadata": {},
   "outputs": [
    {
     "data": {
      "text/plain": [
       "Department\n",
       "Customer Service                    8.0\n",
       "Bancassurance & Institution Dept    5.0\n",
       "Agency Channel                      3.0\n",
       "Finance & Accounting                2.0\n",
       "Human Resources                     1.0\n",
       "Name: Link Clicked, dtype: float64"
      ]
     },
     "execution_count": 19,
     "metadata": {},
     "output_type": "execute_result"
    }
   ],
   "source": [
    "groupby_department['Link Clicked'].sort_values(ascending=False).head()"
   ]
  },
  {
   "cell_type": "markdown",
   "metadata": {},
   "source": [
    "我們發現Customer Service部門有最多閱讀郵件和點擊連結的人，可能的原因如下：<br>\n",
    "(1)該部門的資安意識較為薄弱，因此比較容易被釣魚<br>\n",
    "(2)該部門的同仁較多，或許就比例上而言，與其他部門相同<br>\n",
    "\n",
    "由於我們無法從報告推論出(1)，因此我們就來檢驗一下(2)<br>\n",
    "作法是使用比例來觀察各部門的表現，而非單純的加總數字"
   ]
  },
  {
   "cell_type": "code",
   "execution_count": 20,
   "metadata": {},
   "outputs": [],
   "source": [
    "department_count = email.groupby('Department').count() # 計算各部門人數\n",
    "groupby_department_ratio = groupby_department/department_count * 100 # 將各部門的加總除以部門人數，得出比率"
   ]
  },
  {
   "cell_type": "code",
   "execution_count": 21,
   "metadata": {},
   "outputs": [
    {
     "data": {
      "text/html": [
       "<div>\n",
       "<style scoped>\n",
       "    .dataframe tbody tr th:only-of-type {\n",
       "        vertical-align: middle;\n",
       "    }\n",
       "\n",
       "    .dataframe tbody tr th {\n",
       "        vertical-align: top;\n",
       "    }\n",
       "\n",
       "    .dataframe thead th {\n",
       "        text-align: right;\n",
       "    }\n",
       "</style>\n",
       "<table border=\"1\" class=\"dataframe\">\n",
       "  <thead>\n",
       "    <tr style=\"text-align: right;\">\n",
       "      <th></th>\n",
       "      <th>Email</th>\n",
       "      <th>Email Viewed</th>\n",
       "      <th>First Email Viewed</th>\n",
       "      <th>First Link Clicked</th>\n",
       "      <th>Link Clicked</th>\n",
       "      <th>Name</th>\n",
       "      <th>Number of Actions</th>\n",
       "      <th>Number of Clicks</th>\n",
       "      <th>Number of Views</th>\n",
       "      <th>Second Email Viewed</th>\n",
       "      <th>Second Link Clicked</th>\n",
       "      <th>Third Email Viewed</th>\n",
       "      <th>Third Link Clicked</th>\n",
       "    </tr>\n",
       "    <tr>\n",
       "      <th>Department</th>\n",
       "      <th></th>\n",
       "      <th></th>\n",
       "      <th></th>\n",
       "      <th></th>\n",
       "      <th></th>\n",
       "      <th></th>\n",
       "      <th></th>\n",
       "      <th></th>\n",
       "      <th></th>\n",
       "      <th></th>\n",
       "      <th></th>\n",
       "      <th></th>\n",
       "      <th></th>\n",
       "    </tr>\n",
       "  </thead>\n",
       "  <tbody>\n",
       "    <tr>\n",
       "      <th>Agency Channel</th>\n",
       "      <td>NaN</td>\n",
       "      <td>7.865169</td>\n",
       "      <td>1.123596</td>\n",
       "      <td>0.0</td>\n",
       "      <td>3.370787</td>\n",
       "      <td>NaN</td>\n",
       "      <td>23.595506</td>\n",
       "      <td>3.370787</td>\n",
       "      <td>8.988764</td>\n",
       "      <td>4.494382</td>\n",
       "      <td>1.123596</td>\n",
       "      <td>3.370787</td>\n",
       "      <td>2.247191</td>\n",
       "    </tr>\n",
       "    <tr>\n",
       "      <th>Bancassurance &amp; Institution Dept</th>\n",
       "      <td>NaN</td>\n",
       "      <td>9.090909</td>\n",
       "      <td>1.515152</td>\n",
       "      <td>0.0</td>\n",
       "      <td>7.575758</td>\n",
       "      <td>NaN</td>\n",
       "      <td>33.333333</td>\n",
       "      <td>7.575758</td>\n",
       "      <td>9.090909</td>\n",
       "      <td>4.545455</td>\n",
       "      <td>4.545455</td>\n",
       "      <td>3.030303</td>\n",
       "      <td>3.030303</td>\n",
       "    </tr>\n",
       "    <tr>\n",
       "      <th>Commercial Insurance</th>\n",
       "      <td>NaN</td>\n",
       "      <td>0.000000</td>\n",
       "      <td>0.000000</td>\n",
       "      <td>0.0</td>\n",
       "      <td>0.000000</td>\n",
       "      <td>NaN</td>\n",
       "      <td>0.000000</td>\n",
       "      <td>0.000000</td>\n",
       "      <td>0.000000</td>\n",
       "      <td>0.000000</td>\n",
       "      <td>0.000000</td>\n",
       "      <td>0.000000</td>\n",
       "      <td>0.000000</td>\n",
       "    </tr>\n",
       "    <tr>\n",
       "      <th>Compliance &amp; Legal</th>\n",
       "      <td>NaN</td>\n",
       "      <td>0.000000</td>\n",
       "      <td>0.000000</td>\n",
       "      <td>0.0</td>\n",
       "      <td>0.000000</td>\n",
       "      <td>NaN</td>\n",
       "      <td>0.000000</td>\n",
       "      <td>0.000000</td>\n",
       "      <td>0.000000</td>\n",
       "      <td>0.000000</td>\n",
       "      <td>0.000000</td>\n",
       "      <td>0.000000</td>\n",
       "      <td>0.000000</td>\n",
       "    </tr>\n",
       "    <tr>\n",
       "      <th>Consumer Insurance</th>\n",
       "      <td>NaN</td>\n",
       "      <td>0.000000</td>\n",
       "      <td>0.000000</td>\n",
       "      <td>0.0</td>\n",
       "      <td>0.000000</td>\n",
       "      <td>NaN</td>\n",
       "      <td>0.000000</td>\n",
       "      <td>0.000000</td>\n",
       "      <td>0.000000</td>\n",
       "      <td>0.000000</td>\n",
       "      <td>0.000000</td>\n",
       "      <td>0.000000</td>\n",
       "      <td>0.000000</td>\n",
       "    </tr>\n",
       "  </tbody>\n",
       "</table>\n",
       "</div>"
      ],
      "text/plain": [
       "                                  Email  Email Viewed  First Email Viewed  \\\n",
       "Department                                                                  \n",
       "Agency Channel                      NaN      7.865169            1.123596   \n",
       "Bancassurance & Institution Dept    NaN      9.090909            1.515152   \n",
       "Commercial Insurance                NaN      0.000000            0.000000   \n",
       "Compliance & Legal                  NaN      0.000000            0.000000   \n",
       "Consumer Insurance                  NaN      0.000000            0.000000   \n",
       "\n",
       "                                  First Link Clicked  Link Clicked  Name  \\\n",
       "Department                                                                 \n",
       "Agency Channel                                   0.0      3.370787   NaN   \n",
       "Bancassurance & Institution Dept                 0.0      7.575758   NaN   \n",
       "Commercial Insurance                             0.0      0.000000   NaN   \n",
       "Compliance & Legal                               0.0      0.000000   NaN   \n",
       "Consumer Insurance                               0.0      0.000000   NaN   \n",
       "\n",
       "                                  Number of Actions  Number of Clicks  \\\n",
       "Department                                                              \n",
       "Agency Channel                            23.595506          3.370787   \n",
       "Bancassurance & Institution Dept          33.333333          7.575758   \n",
       "Commercial Insurance                       0.000000          0.000000   \n",
       "Compliance & Legal                         0.000000          0.000000   \n",
       "Consumer Insurance                         0.000000          0.000000   \n",
       "\n",
       "                                  Number of Views  Second Email Viewed  \\\n",
       "Department                                                               \n",
       "Agency Channel                           8.988764             4.494382   \n",
       "Bancassurance & Institution Dept         9.090909             4.545455   \n",
       "Commercial Insurance                     0.000000             0.000000   \n",
       "Compliance & Legal                       0.000000             0.000000   \n",
       "Consumer Insurance                       0.000000             0.000000   \n",
       "\n",
       "                                  Second Link Clicked  Third Email Viewed  \\\n",
       "Department                                                                  \n",
       "Agency Channel                               1.123596            3.370787   \n",
       "Bancassurance & Institution Dept             4.545455            3.030303   \n",
       "Commercial Insurance                         0.000000            0.000000   \n",
       "Compliance & Legal                           0.000000            0.000000   \n",
       "Consumer Insurance                           0.000000            0.000000   \n",
       "\n",
       "                                  Third Link Clicked  \n",
       "Department                                            \n",
       "Agency Channel                              2.247191  \n",
       "Bancassurance & Institution Dept            3.030303  \n",
       "Commercial Insurance                        0.000000  \n",
       "Compliance & Legal                          0.000000  \n",
       "Consumer Insurance                          0.000000  "
      ]
     },
     "execution_count": 21,
     "metadata": {},
     "output_type": "execute_result"
    }
   ],
   "source": [
    "groupby_department_ratio.head() # 顯示前5列"
   ]
  },
  {
   "cell_type": "markdown",
   "metadata": {},
   "source": [
    "Question 8. 哪個部門閱讀社交工程郵件的比率最高? Answer：Executive Office，14.29%"
   ]
  },
  {
   "cell_type": "code",
   "execution_count": 22,
   "metadata": {},
   "outputs": [
    {
     "data": {
      "text/plain": [
       "Department\n",
       "Executive Office                    14.285714\n",
       "Bancassurance & Institution Dept     9.090909\n",
       "Agency Channel                       7.865169\n",
       "Finance & Accounting                 7.500000\n",
       "Product Development & Marketing      7.142857\n",
       "Name: Email Viewed, dtype: float64"
      ]
     },
     "execution_count": 22,
     "metadata": {},
     "output_type": "execute_result"
    }
   ],
   "source": [
    "groupby_department_ratio['Email Viewed'].sort_values(ascending=False).head()"
   ]
  },
  {
   "cell_type": "markdown",
   "metadata": {},
   "source": [
    "Question 9. 哪個部門點擊連結的比率最高? Answer：Bancassurance & Institution Dept，7.58%"
   ]
  },
  {
   "cell_type": "code",
   "execution_count": 23,
   "metadata": {},
   "outputs": [
    {
     "data": {
      "text/plain": [
       "Department\n",
       "Bancassurance & Institution Dept    7.575758\n",
       "Human Resources                     6.666667\n",
       "Finance & Accounting                5.000000\n",
       "Agency Channel                      3.370787\n",
       "Customer Service                    2.116402\n",
       "Name: Link Clicked, dtype: float64"
      ]
     },
     "execution_count": 23,
     "metadata": {},
     "output_type": "execute_result"
    }
   ],
   "source": [
    "groupby_department_ratio['Link Clicked'].sort_values(ascending=False).head()"
   ]
  },
  {
   "cell_type": "markdown",
   "metadata": {},
   "source": [
    "比較後發現，使用加總或比率得出來的結果，差異相當大<br>\n",
    "我們可以推斷，Customer Service部門擁有最多閱讀郵件和點擊連結的人，但原因並非資安意識薄弱<br>"
   ]
  },
  {
   "cell_type": "markdown",
   "metadata": {},
   "source": [
    "### 最後，從公司整體的角度去分析和檢視"
   ]
  },
  {
   "cell_type": "markdown",
   "metadata": {},
   "source": [
    "Question 10. 公司有多少人閱讀郵件、比率為何? Answer：31人，4.13%"
   ]
  },
  {
   "cell_type": "code",
   "execution_count": 24,
   "metadata": {},
   "outputs": [
    {
     "name": "stdout",
     "output_type": "stream",
     "text": [
      "31\n",
      "4.133333333333333\n"
     ]
    }
   ],
   "source": [
    "print(email['Email Viewed'].sum()) #閱讀次數\n",
    "print(email['Email Viewed'].sum()/email.shape[0] * 100) #閱讀比率"
   ]
  },
  {
   "cell_type": "markdown",
   "metadata": {},
   "source": [
    "Question 11. 公司有多少人點擊連結、比率為何? Answer：19人，2.53%"
   ]
  },
  {
   "cell_type": "code",
   "execution_count": 25,
   "metadata": {},
   "outputs": [
    {
     "name": "stdout",
     "output_type": "stream",
     "text": [
      "19\n",
      "2.533333333333333\n"
     ]
    }
   ],
   "source": [
    "print(email['Link Clicked'].sum()) #點擊次數\n",
    "print(email['Link Clicked'].sum()/email.shape[0] * 100) #點擊比率"
   ]
  },
  {
   "cell_type": "markdown",
   "metadata": {},
   "source": [
    "顯然閱讀郵件的人比點擊連結的人更多<br>\n",
    "\n",
    "有關分析和檢視的部份到此告一段落，當然還可以將問題延伸下去，不過要向客戶報告演練結果，上述的資訊已經足夠了<br>\n",
    "一般而言，完成社交工程演練後，除了將上述的分析結果以投影片的方式提供給客戶<br>\n",
    "我們會提供關注名單，請客戶督促名單中的同仁完成教育訓練(通常有任一行為的同仁即列入關注名單)"
   ]
  },
  {
   "cell_type": "markdown",
   "metadata": {},
   "source": [
    "## Step 7. 產生關注名單"
   ]
  },
  {
   "cell_type": "code",
   "execution_count": 26,
   "metadata": {},
   "outputs": [],
   "source": [
    "email[email['Number of Actions'] != 0][['Name', 'Department', 'Email']].to_excel('list_of_concerns.xlsx', index=False)"
   ]
  },
  {
   "cell_type": "markdown",
   "metadata": {},
   "source": [
    "以上即為社交工程演練分析的大致流程"
   ]
  }
 ],
 "metadata": {
  "kernelspec": {
   "display_name": "Python 3",
   "language": "python",
   "name": "python3"
  },
  "language_info": {
   "codemirror_mode": {
    "name": "ipython",
    "version": 3
   },
   "file_extension": ".py",
   "mimetype": "text/x-python",
   "name": "python",
   "nbconvert_exporter": "python",
   "pygments_lexer": "ipython3",
   "version": "3.7.1"
  }
 },
 "nbformat": 4,
 "nbformat_minor": 2
}
